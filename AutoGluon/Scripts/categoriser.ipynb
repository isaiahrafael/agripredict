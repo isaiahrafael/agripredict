{
 "cells": [
  {
   "cell_type": "code",
   "execution_count": 4,
   "id": "22cb549c",
   "metadata": {},
   "outputs": [],
   "source": [
    "import pandas as pd\n",
    "\n",
    "# Load the CSV file\n",
    "file_path = '/Users/isaiah/Downloads/commodity_futures.csv'\n",
    "data = pd.read_csv(file_path)\n",
    "\n",
    "# Define the categories and their respective columns\n",
    "categories = {\n",
    "    'Energy Commodities': ['NATURAL GAS', 'WTI CRUDE', 'BRENT CRUDE', 'LOW SULPHUR GAS OIL', 'ULS DIESEL', 'GASOLINE'],\n",
    "    'Precious Metals': ['GOLD', 'SILVER'],\n",
    "    'Base Metals': ['COPPER', 'ALUMINIUM', 'ZINC', 'NICKEL'],\n",
    "    'Agricultural Commodities': ['SOYBEANS', 'CORN', 'SOYBEAN OIL', 'SOYBEAN MEAL', 'WHEAT', 'SUGAR', 'COFFEE', 'HRW WHEAT', 'COTTON'],\n",
    "    'Livestock': ['LIVE CATTLE', 'LEAN HOGS']\n",
    "}\n",
    "\n",
    "# Function to save a portion of the data to a CSV file\n",
    "def save_category_to_csv(category, columns):\n",
    "    # Ensure 'DATE' column is included\n",
    "    columns_with_date = ['Date'] + columns if 'Date' not in columns else columns\n",
    "    subset = data[columns_with_date]\n",
    "    subset.to_csv(f\"{category.replace(' ', '_').lower()}_commodity.csv\", index=False)\n",
    "\n"
   ]
  },
  {
   "cell_type": "code",
   "execution_count": 9,
   "id": "407300a1",
   "metadata": {},
   "outputs": [],
   "source": [
    "# Save each category to a separate CSV file\n",
    "for category, columns in categories.items():\n",
    "    save_category_to_csv(category, columns)\n",
    "    "
   ]
  },
  {
   "cell_type": "code",
   "execution_count": null,
   "id": "9c008fbc",
   "metadata": {},
   "outputs": [],
   "source": []
  }
 ],
 "metadata": {
  "kernelspec": {
   "display_name": "Python 3 (ipykernel)",
   "language": "python",
   "name": "python3"
  },
  "language_info": {
   "codemirror_mode": {
    "name": "ipython",
    "version": 3
   },
   "file_extension": ".py",
   "mimetype": "text/x-python",
   "name": "python",
   "nbconvert_exporter": "python",
   "pygments_lexer": "ipython3",
   "version": "3.11.7"
  }
 },
 "nbformat": 4,
 "nbformat_minor": 5
}
